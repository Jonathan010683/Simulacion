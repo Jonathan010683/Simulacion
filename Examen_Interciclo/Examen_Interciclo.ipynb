{
 "cells": [
  {
   "cell_type": "markdown",
   "metadata": {},
   "source": [
    "<center><h1>Universiad Politecnica Salesiana</h1></center>\n",
    "<center><h2>Examen Interciclo</h2></center>\n",
    "<center><h3>Jonathan Uzhca</h3></center>\n",
    "<center><h1>Simulacion</h1></center>\n"
   ]
  },
  {
   "cell_type": "markdown",
   "metadata": {},
   "source": [
    "-`Diseñe y desarrolle un modelo y/o script que permita simular el siguiente caso real:\n",
    "- Obtener datos de tendencia de twitter o facebook, para ello se puede obtener a través del API [4].\n",
    "-`Title: Titulo del Post/Twitter\n",
    "    - Word count: la cantidad de palabras del artículo,\n",
    "    - numero of Links: los enlaces externos que contiene,\n",
    "    - numero of comments: cantidad de comentarios,\n",
    "    - numero Shares: compartidos.\n",
    "    - HashTag\n",
    "    - Etc.\n"
   ]
  },
  {
   "cell_type": "code",
   "execution_count": 1,
   "metadata": {},
   "outputs": [],
   "source": [
    "import pandas as pd\n",
    "import os\n",
    "import matplotlib.pyplot as plt\n",
    "from facebook_scraper import get_posts\n",
    "import numpy as np\n",
    "import seaborn as sb\n",
    "from mpl_toolkits.mplot3d import Axes3D\n",
    "from matplotlib import cm\n",
    "from sklearn import linear_model\n",
    "from sklearn.metrics import mean_squared_error, r2_score"
   ]
  },
  {
   "cell_type": "code",
   "execution_count": 3,
   "metadata": {},
   "outputs": [],
   "source": [
    "def contador(post):\n",
    "    cont=0\n",
    "    for char in post:        \n",
    "            cont+=1\n",
    "    return cont"
   ]
  },
  {
   "cell_type": "markdown",
   "metadata": {},
   "source": [
    "Vamos a estraer los datos por publicaciones  para el candidato  a la eleccion"
   ]
  },
  {
   "cell_type": "code",
   "execution_count": 26,
   "metadata": {},
   "outputs": [],
   "source": [
    "publicaciones = [] \n",
    "\n",
    "for post in get_posts('LassoGuillermo', pages=10):\n",
    "        post['Word count'] = len(post['text'])\n",
    "        publicaciones.append(post)          \n",
    "facebook_posts = pd.DataFrame(publicaciones)\n"
   ]
  },
  {
   "cell_type": "markdown",
   "metadata": {},
   "source": [
    "Vamos a listar todo las listas donde se van  a guardar las publicaciones  obtenidoas para nuestras prediccioens y  nuestro desarrollo del examen \n",
    "    -vamos a optener los datos de las publicaciones del candidato  guillermo lasso"
   ]
  },
  {
   "cell_type": "code",
   "execution_count": null,
   "metadata": {},
   "outputs": [],
   "source": [
    "posts = []\n",
    "for post in get_posts('LassoGuillermo', pages=10):\n",
    "    post['numWord']=contador(post['text'])\n",
    "    posts.append(post)\n"
   ]
  },
  {
   "cell_type": "markdown",
   "metadata": {},
   "source": [
    "    - vamos a optener los datos del candidato Paul carrasco para ver como  estas su cadindatura mediante las publicidades"
   ]
  },
  {
   "cell_type": "code",
   "execution_count": null,
   "metadata": {},
   "outputs": [],
   "source": [
    "for post in get_posts('ecuarauz2021', pages=10):\n",
    "    post['numWord']=contador(post['text'])    \n",
    "    posts.append(post)    \n",
    "fb_posts = pd.DataFrame(posts)"
   ]
  },
  {
   "cell_type": "markdown",
   "metadata": {},
   "source": [
    "Vamos a leer los datos  del archivo  y  aescribirle en  el arvicho "
   ]
  },
  {
   "cell_type": "code",
   "execution_count": 6,
   "metadata": {},
   "outputs": [],
   "source": [
    "file = open(\"likes.txt\",\"w\") \n",
    "for like in fb_posts['likes']:\n",
    "    file.write(str(like)+'\\n')\n",
    "file.close()"
   ]
  },
  {
   "cell_type": "markdown",
   "metadata": {},
   "source": [
    "Vamos a verificar que datos tenes  y como estas estructurado todo  el archivo"
   ]
  },
  {
   "cell_type": "code",
   "execution_count": 8,
   "metadata": {},
   "outputs": [
    {
     "data": {
      "text/html": [
       "<div>\n",
       "<style scoped>\n",
       "    .dataframe tbody tr th:only-of-type {\n",
       "        vertical-align: middle;\n",
       "    }\n",
       "\n",
       "    .dataframe tbody tr th {\n",
       "        vertical-align: top;\n",
       "    }\n",
       "\n",
       "    .dataframe thead th {\n",
       "        text-align: right;\n",
       "    }\n",
       "</style>\n",
       "<table border=\"1\" class=\"dataframe\">\n",
       "  <thead>\n",
       "    <tr style=\"text-align: right;\">\n",
       "      <th></th>\n",
       "      <th>post_id</th>\n",
       "      <th>text</th>\n",
       "      <th>post_text</th>\n",
       "      <th>shared_text</th>\n",
       "      <th>time</th>\n",
       "      <th>image</th>\n",
       "      <th>video</th>\n",
       "      <th>video_thumbnail</th>\n",
       "      <th>video_id</th>\n",
       "      <th>likes</th>\n",
       "      <th>comments</th>\n",
       "      <th>shares</th>\n",
       "      <th>post_url</th>\n",
       "      <th>link</th>\n",
       "      <th>user_id</th>\n",
       "      <th>images</th>\n",
       "      <th>numWord</th>\n",
       "    </tr>\n",
       "  </thead>\n",
       "  <tbody>\n",
       "    <tr>\n",
       "      <th>0</th>\n",
       "      <td>4845903942117477</td>\n",
       "      <td>El Ecuador está listo para el CAMBIO 💪🏼.\\n\\nEn...</td>\n",
       "      <td>El Ecuador está listo para el CAMBIO 💪🏼.\\n\\nEn...</td>\n",
       "      <td></td>\n",
       "      <td>2020-12-20 19:12:15</td>\n",
       "      <td>https://scontent.fcue6-1.fna.fbcdn.net/v/t1.0-...</td>\n",
       "      <td>None</td>\n",
       "      <td>None</td>\n",
       "      <td>None</td>\n",
       "      <td>1591</td>\n",
       "      <td>136</td>\n",
       "      <td>0</td>\n",
       "      <td>https://facebook.com/story.php?story_fbid=4845...</td>\n",
       "      <td>None</td>\n",
       "      <td>401049006603015</td>\n",
       "      <td>[https://scontent.fcue6-1.fna.fbcdn.net/v/t1.0...</td>\n",
       "      <td>190</td>\n",
       "    </tr>\n",
       "    <tr>\n",
       "      <th>1</th>\n",
       "      <td>4845372462170625</td>\n",
       "      <td>¡Hoy celebramos la cantonización de Sozoranga!...</td>\n",
       "      <td>¡Hoy celebramos la cantonización de Sozoranga!...</td>\n",
       "      <td></td>\n",
       "      <td>2020-12-20 15:47:00</td>\n",
       "      <td>None</td>\n",
       "      <td>None</td>\n",
       "      <td>None</td>\n",
       "      <td>None</td>\n",
       "      <td>454</td>\n",
       "      <td>54</td>\n",
       "      <td>0</td>\n",
       "      <td>https://facebook.com/story.php?story_fbid=4845...</td>\n",
       "      <td>None</td>\n",
       "      <td>401049006603015</td>\n",
       "      <td>[]</td>\n",
       "      <td>224</td>\n",
       "    </tr>\n",
       "    <tr>\n",
       "      <th>2</th>\n",
       "      <td>4844341652273706</td>\n",
       "      <td>Con la salud no se juega. Junto al Dr. Alfredo...</td>\n",
       "      <td>Con la salud no se juega. Junto al Dr. Alfredo...</td>\n",
       "      <td></td>\n",
       "      <td>2020-12-20 10:38:01</td>\n",
       "      <td>None</td>\n",
       "      <td>https://video.fcue6-1.fna.fbcdn.net/v/t42.1790...</td>\n",
       "      <td>https://scontent.fcue6-1.fna.fbcdn.net/v/t15.5...</td>\n",
       "      <td>232917304870895</td>\n",
       "      <td>1081</td>\n",
       "      <td>183</td>\n",
       "      <td>0</td>\n",
       "      <td>https://facebook.com/watch?v=232917304870895</td>\n",
       "      <td>None</td>\n",
       "      <td>401049006603015</td>\n",
       "      <td>[]</td>\n",
       "      <td>118</td>\n",
       "    </tr>\n",
       "    <tr>\n",
       "      <th>3</th>\n",
       "      <td>4841574735883731</td>\n",
       "      <td>¡GRACIAS LOJA!\\n\\nLa alegría por la llegada de...</td>\n",
       "      <td>¡GRACIAS LOJA!\\n\\nLa alegría por la llegada de...</td>\n",
       "      <td></td>\n",
       "      <td>2020-12-19 18:45:41</td>\n",
       "      <td>https://scontent.fcue6-1.fna.fbcdn.net/v/t1.0-...</td>\n",
       "      <td>None</td>\n",
       "      <td>None</td>\n",
       "      <td>None</td>\n",
       "      <td>2359</td>\n",
       "      <td>242</td>\n",
       "      <td>0</td>\n",
       "      <td>https://facebook.com/story.php?story_fbid=4841...</td>\n",
       "      <td>None</td>\n",
       "      <td>401049006603015</td>\n",
       "      <td>[https://scontent.fcue6-1.fna.fbcdn.net/v/t1.0...</td>\n",
       "      <td>278</td>\n",
       "    </tr>\n",
       "    <tr>\n",
       "      <th>4</th>\n",
       "      <td>4841197019254836</td>\n",
       "      <td>Con Guido Chiriboga , tenemos la #CapacidadPar...</td>\n",
       "      <td>Con Guido Chiriboga , tenemos la #CapacidadPar...</td>\n",
       "      <td></td>\n",
       "      <td>2020-12-19 16:26:19</td>\n",
       "      <td>None</td>\n",
       "      <td>https://video.fcue6-1.fna.fbcdn.net/v/t42.1790...</td>\n",
       "      <td>https://scontent.fcue6-1.fna.fbcdn.net/v/t15.5...</td>\n",
       "      <td>401847227903830</td>\n",
       "      <td>719</td>\n",
       "      <td>73</td>\n",
       "      <td>0</td>\n",
       "      <td>https://facebook.com/watch?v=401847227903830</td>\n",
       "      <td>None</td>\n",
       "      <td>401049006603015</td>\n",
       "      <td>[]</td>\n",
       "      <td>114</td>\n",
       "    </tr>\n",
       "  </tbody>\n",
       "</table>\n",
       "</div>"
      ],
      "text/plain": [
       "            post_id                                               text  \\\n",
       "0  4845903942117477  El Ecuador está listo para el CAMBIO 💪🏼.\\n\\nEn...   \n",
       "1  4845372462170625  ¡Hoy celebramos la cantonización de Sozoranga!...   \n",
       "2  4844341652273706  Con la salud no se juega. Junto al Dr. Alfredo...   \n",
       "3  4841574735883731  ¡GRACIAS LOJA!\\n\\nLa alegría por la llegada de...   \n",
       "4  4841197019254836  Con Guido Chiriboga , tenemos la #CapacidadPar...   \n",
       "\n",
       "                                           post_text shared_text  \\\n",
       "0  El Ecuador está listo para el CAMBIO 💪🏼.\\n\\nEn...               \n",
       "1  ¡Hoy celebramos la cantonización de Sozoranga!...               \n",
       "2  Con la salud no se juega. Junto al Dr. Alfredo...               \n",
       "3  ¡GRACIAS LOJA!\\n\\nLa alegría por la llegada de...               \n",
       "4  Con Guido Chiriboga , tenemos la #CapacidadPar...               \n",
       "\n",
       "                 time                                              image  \\\n",
       "0 2020-12-20 19:12:15  https://scontent.fcue6-1.fna.fbcdn.net/v/t1.0-...   \n",
       "1 2020-12-20 15:47:00                                               None   \n",
       "2 2020-12-20 10:38:01                                               None   \n",
       "3 2020-12-19 18:45:41  https://scontent.fcue6-1.fna.fbcdn.net/v/t1.0-...   \n",
       "4 2020-12-19 16:26:19                                               None   \n",
       "\n",
       "                                               video  \\\n",
       "0                                               None   \n",
       "1                                               None   \n",
       "2  https://video.fcue6-1.fna.fbcdn.net/v/t42.1790...   \n",
       "3                                               None   \n",
       "4  https://video.fcue6-1.fna.fbcdn.net/v/t42.1790...   \n",
       "\n",
       "                                     video_thumbnail         video_id  likes  \\\n",
       "0                                               None             None   1591   \n",
       "1                                               None             None    454   \n",
       "2  https://scontent.fcue6-1.fna.fbcdn.net/v/t15.5...  232917304870895   1081   \n",
       "3                                               None             None   2359   \n",
       "4  https://scontent.fcue6-1.fna.fbcdn.net/v/t15.5...  401847227903830    719   \n",
       "\n",
       "   comments  shares                                           post_url  link  \\\n",
       "0       136       0  https://facebook.com/story.php?story_fbid=4845...  None   \n",
       "1        54       0  https://facebook.com/story.php?story_fbid=4845...  None   \n",
       "2       183       0       https://facebook.com/watch?v=232917304870895  None   \n",
       "3       242       0  https://facebook.com/story.php?story_fbid=4841...  None   \n",
       "4        73       0       https://facebook.com/watch?v=401847227903830  None   \n",
       "\n",
       "           user_id                                             images  numWord  \n",
       "0  401049006603015  [https://scontent.fcue6-1.fna.fbcdn.net/v/t1.0...      190  \n",
       "1  401049006603015                                                 []      224  \n",
       "2  401049006603015                                                 []      118  \n",
       "3  401049006603015  [https://scontent.fcue6-1.fna.fbcdn.net/v/t1.0...      278  \n",
       "4  401049006603015                                                 []      114  "
      ]
     },
     "execution_count": 8,
     "metadata": {},
     "output_type": "execute_result"
    }
   ],
   "source": [
    "fb_posts.head()"
   ]
  },
  {
   "cell_type": "markdown",
   "metadata": {},
   "source": [
    "Vamos a realziar una pequeñas graficas que indiques como estan los datos"
   ]
  },
  {
   "cell_type": "code",
   "execution_count": 9,
   "metadata": {},
   "outputs": [
    {
     "data": {
      "image/png": "[encoded data removed]",
      "text/plain": [
       "<Figure size 432x288 with 4 Axes>"
      ]
     },
     "metadata": {
      "needs_background": "light"
     },
     "output_type": "display_data"
    }
   ],
   "source": [
    "fb_posts.drop(['post_id','post_url', 'time'],1).hist()\n",
    "plt.show()"
   ]
  },
  {
   "cell_type": "markdown",
   "metadata": {},
   "source": [
    "Vamo a  ver como estan lso datos mediante una grafic para poder visualizar mejor los datos"
   ]
  },
  {
   "cell_type": "code",
   "execution_count": 32,
   "metadata": {},
   "outputs": [
    {
     "data": {
      "image/png": "[encoded data removed]",
      "text/plain": [
       "<Figure size 432x288 with 1 Axes>"
      ]
     },
     "metadata": {
      "needs_background": "light"
     },
     "output_type": "display_data"
    }
   ],
   "source": [
    "filtered_data = fb_posts[(fb_posts['numWord'] <= 3500) & (fb_posts['likes'] <= 80000)]\n",
    "colores=['red','blue']\n",
    "\n",
    "numerotr = filtered_data['numWord'].values\n",
    "numeroLike = filtered_data['likes'].values\n",
    "\n",
    "asignar=[]\n",
    "for index, row in filtered_data.iterrows():\n",
    "    if(row['numWord']>200):\n",
    "        asignar.append(colores[0])\n",
    "    else:\n",
    "        asignar.append(colores[1])\n",
    "    \n",
    "plt.scatter(numerotr, numeroLike, c=asignar, s=tamanios[0])\n",
    "plt.show()"
   ]
  },
  {
   "cell_type": "markdown",
   "metadata": {},
   "source": [
    "Vamos a entrenar los datos  con las variables de entrada"
   ]
  },
  {
   "cell_type": "code",
   "execution_count": 33,
   "metadata": {},
   "outputs": [],
   "source": [
    "dataX =filtered_data[[\"numWord\"]]\n",
    "X_train = np.array(dataX)\n",
    "y_train = filtered_data['likes'].values"
   ]
  },
  {
   "cell_type": "markdown",
   "metadata": {},
   "source": [
    "Vamos a crear la RegreSion Lienal"
   ]
  },
  {
   "cell_type": "code",
   "execution_count": 34,
   "metadata": {},
   "outputs": [],
   "source": [
    "regr = linear_model.LinearRegression()"
   ]
  },
  {
   "cell_type": "markdown",
   "metadata": {},
   "source": [
    "Creamos el objeto de la regresion lineal "
   ]
  },
  {
   "cell_type": "code",
   "execution_count": 35,
   "metadata": {},
   "outputs": [],
   "source": [
    "regr = linear_model.LinearRegression()"
   ]
  },
  {
   "cell_type": "markdown",
   "metadata": {},
   "source": [
    "Vamos a entrenar lso datos que necesitamos  para el modelo "
   ]
  },
  {
   "cell_type": "code",
   "execution_count": 36,
   "metadata": {},
   "outputs": [
    {
     "data": {
      "text/plain": [
       "LinearRegression()"
      ]
     },
     "execution_count": 36,
     "metadata": {},
     "output_type": "execute_result"
    }
   ],
   "source": [
    "regr.fit(X_train, y_train)"
   ]
  },
  {
   "cell_type": "markdown",
   "metadata": {},
   "source": [
    "vamos a  hacer las predicciones definitivas para nuestro   examen"
   ]
  },
  {
   "cell_type": "code",
   "execution_count": 37,
   "metadata": {},
   "outputs": [],
   "source": [
    "y_pred = regr.predict(X_train)"
   ]
  },
  {
   "cell_type": "markdown",
   "metadata": {},
   "source": [
    "Vamos a ver los datos obtenidos "
   ]
  },
  {
   "cell_type": "code",
   "execution_count": 38,
   "metadata": {},
   "outputs": [
    {
     "name": "stdout",
     "output_type": "stream",
     "text": [
      "Coefficients: \n",
      " [0.82567859]\n"
     ]
    }
   ],
   "source": [
    "print('Coefficients: \\n', regr.coef_)"
   ]
  },
  {
   "cell_type": "markdown",
   "metadata": {},
   "source": [
    "verificares el  error cuadratico medio"
   ]
  },
  {
   "cell_type": "code",
   "execution_count": 39,
   "metadata": {},
   "outputs": [
    {
     "name": "stdout",
     "output_type": "stream",
     "text": [
      "Mean squared error: 1731438.93\n"
     ]
    }
   ],
   "source": [
    "print(\"Mean squared error: %.2f\" % mean_squared_error(y_train, y_pred))"
   ]
  },
  {
   "cell_type": "markdown",
   "metadata": {},
   "source": [
    "Vamos  ver como esta la recta se se obtuvo para nuestra prediccion"
   ]
  },
  {
   "cell_type": "code",
   "execution_count": 40,
   "metadata": {},
   "outputs": [
    {
     "data": {
      "image/png": "[encoded data removed]",
      "text/plain": [
       "<Figure size 432x288 with 1 Axes>"
      ]
     },
     "metadata": {
      "needs_background": "light"
     },
     "output_type": "display_data"
    }
   ],
   "source": [
    "plt.scatter(X_train[:,0], y_train,  c=asignar, s=tamanios[0])\n",
    "plt.plot(X_train[:,0], y_pred, color='red', linewidth=3)\n",
    "\n",
    "plt.xlabel('Cantidad de Palabras')\n",
    "plt.ylabel('Compartido en Redes')\n",
    "plt.title('Regresión Lineal')\n",
    "\n",
    "plt.show()"
   ]
  },
  {
   "cell_type": "markdown",
   "metadata": {},
   "source": [
    "Vamos a realizar un prediccion mediente la cnatidad  de link que  se optubo con el archivo y  vamos a crear algunas varias que  vamos a anecesitas pra hacer neustro procedimiento y ver como esta la votacion"
   ]
  },
  {
   "cell_type": "code",
   "execution_count": 17,
   "metadata": {},
   "outputs": [],
   "source": [
    "import random\n",
    "\n",
    "random.seed(1)\n",
    "lasso_digits = [0, 0, 0, 0, 0, 0, 0, 0, 0, 0]\n",
    "arauz_digits = [0, 0, 0, 0, 0, 0, 0, 0, 0, 0]\n",
    "\n",
    "arauz_win_pct = 29.28\n",
    "total_wards = 0\n",
    "total_arauz_votes = 0\n",
    "total_lasso_votes = 0\n",
    "total_votes = 0"
   ]
  },
  {
   "cell_type": "markdown",
   "metadata": {},
   "source": [
    "Vamos a a leer  el archivo y leer todo lso datos apr apdoer  ahcer nuestro prediccion  de votcion con los candidatos"
   ]
  },
  {
   "cell_type": "code",
   "execution_count": 19,
   "metadata": {},
   "outputs": [],
   "source": [
    "\n",
    "for i in range(1000):\n",
    "    my_input = open('likes.txt')\n",
    "    for line in my_input:\n",
    "        total_wards += 1\n",
    "        fields = line.strip().split()\n",
    "        num_voters = int(fields[0])\n",
    "        arauz_votes_in_ward = 0\n",
    "        lasso_votes_in_ward = 0\n",
    "        for j in range(num_voters):\n",
    "            random_num = random.random() * 100\n",
    "            if random_num <= 69.13:\n",
    "                lasso_votes_in_ward += 1\n",
    "                total_lasso_votes += 1\n",
    "            elif random_num <= (69.13 + 29.28) :\n",
    "                arauz_votes_in_ward += 1\n",
    "                total_arauz_votes += 1\n",
    "            total_votes += 1\n",
    "        arauz_digit = int(str(arauz_votes_in_ward)[0])\n",
    "        lasso_digit = int(str(lasso_votes_in_ward)[0])\n",
    "        arauz_digits[arauz_digit] += 1\n",
    "        lasso_digits[lasso_digit] += 1\n"
   ]
  },
  {
   "cell_type": "markdown",
   "metadata": {},
   "source": [
    "Vamos a imprimir los datos deseados par a lso candidatos que vamso a autilizar y  vamso a ver  como estas nuestras prediccion "
   ]
  },
  {
   "cell_type": "code",
   "execution_count": 20,
   "metadata": {},
   "outputs": [
    {
     "name": "stdout",
     "output_type": "stream",
     "text": [
      "LASSO con: 29.279623589174403 %\n",
      "ARAUZ con : 69.13073958088663 %\n"
     ]
    }
   ],
   "source": [
    "print('LASSO con:', 100.0 * total_arauz_votes / total_votes , '%')\n",
    "print('ARAUZ con :', 100.0 * total_lasso_votes / total_votes, '%')"
   ]
  },
  {
   "cell_type": "markdown",
   "metadata": {},
   "source": [
    "### Conclusion\n",
    "Como vemos se a realizado  el examen y se obtenido  datos   y  se pudo  reliazar pronosticos de como estas  los canditos  con los respestivos  votos mediente las redes sociales  y como influye  sus  votos con  ayuda  de las regresion se puede dar a conocer  datos estadisticos   que nos ayude a ver como estan un probleme en el entorno del mundo real  y como influlle y dar un datos un pronostico  a futuro"
   ]
  },
  {
   "cell_type": "markdown",
   "metadata": {},
   "source": [
    "### Bibliografia\n",
    "- https://eprints.ucm.es/48804/1/TFM%20Manuel%20Alejandro%20Rodriguez%20Santana.pdf\n",
    "- https://eprints.ucm.es/48804/1/TFM%20Manuel%20Alejandro%20Rodriguez%20Santana.pdf\n",
    "- http://opac.pucv.cl/pucv_txt/txt-8000/UCC8094_01.pdf"
   ]
  },
  {
   "cell_type": "markdown",
   "metadata": {},
   "source": []
  }
 ],
 "metadata": {
  "kernelspec": {
   "display_name": "Python 3",
   "language": "python",
   "name": "python3"
  },
  "language_info": {
   "codemirror_mode": {
    "name": "ipython",
    "version": 3
   },
   "file_extension": ".py",
   "mimetype": "text/x-python",
   "name": "python",
   "nbconvert_exporter": "python",
   "pygments_lexer": "ipython3",
   "version": "3.8.5"
  }
 },
 "nbformat": 4,
 "nbformat_minor": 4
}
