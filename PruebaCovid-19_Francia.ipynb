{
 "cells": [
  {
   "cell_type": "markdown",
   "metadata": {},
   "source": [
    "<center><h1>Universidad Politecnica Salesiana</h1></center>\n",
    "<center><h2>Prueba 1 Practica de Simulacion</h2></center>\n",
    "<center><h3>Jonnathan Uzhca</h3></center>\n"
   ]
  },
  {
   "cell_type": "markdown",
   "metadata": {},
   "source": [
    "Objetivo:\n",
    "\n",
    "- Consolidar los conocimientos adquiridos en clase para desarrollar simulaciones."
   ]
  },
  {
   "cell_type": "markdown",
   "metadata": {},
   "source": [
    "Enunciado:\n",
    "\n",
    "- Diseñe y desarrolle un modelo y/o script que permita simular el siguiente caso real:\n",
    "- Investigar los datos de los paises contigados por COVID-19, especialmente de latinoamerica (menos Ecuador), deberán escoger uno y que no se repita, para ello se va a seleccionar el orden en el que publique dentro del foro “Tema prueba 1”, con estos datos obtener los siguientes modelos:\n",
    "- Generar un modelo matematico de prediccion para regresion lineal, exponencial, polinomico y logaritmico, de los nuevos contactos en la proxima semana (7 dias despues).\n",
    "- Generar un modelo probabilistico con los datos.\n",
    "- Finalmente, contrarestar los modelos matematicos y generar las siguientes conclusiones\n",
    "- Cual tiene una mejor prediccion\n",
    "- Ventajas y desventajas de los modelos.\n",
    "- Cual es el principal problema del modelo probabilistico\n",
    "- El proceso de simulación desarrollado deberá considerar los siguientes aspectos:\n",
    "- Se debe establecer un modelo basado en modelos matematicos y probabilisticos.\n",
    "- El programa deberá generar gráficas que indiquen la ecuacion matematica y probabilistica de tendencias.\n",
    "- Deben calcularse las siguientes métricas:\n",
    "- Total de infectados dentro de 7 dias (matematico y probabilistico).\n",
    "\n",
    "\n",
    "Finalmente, desarrollar dentor de un cuaderno de Jupyter Notebook, generar un PDF y subir al repositorio.\n",
    "\n",
    "La fecha de entrega es 24/11/20 antes o igual de las 13:00.\n",
    "\n",
    "Cualquier pregunta que tengan no olviden en realizar por cualquier medio electronico.\n",
    "\n",
    "\n",
    "\n"
   ]
  },
  {
   "cell_type": "markdown",
   "metadata": {},
   "source": [
    "##  Paso 1"
   ]
  },
  {
   "cell_type": "markdown",
   "metadata": {},
   "source": [
    "Primero vamos a exportar todo los paquetes que vamsoa  necesitar"
   ]
  },
  {
   "cell_type": "code",
   "execution_count": 2,
   "metadata": {},
   "outputs": [
    {
     "name": "stdout",
     "output_type": "stream",
     "text": [
      "pygame 2.0.0 (SDL 2.0.12, python 3.8.5)\n",
      "Hello from the pygame community. https://www.pygame.org/contribute.html\n"
     ]
    }
   ],
   "source": [
    "import pandas as pd\n",
    "import numpy as np\n",
    "from datetime import datetime, timedelta\n",
    "import matplotlib.pyplot as plt\n",
    "from sklearn import linear_model\n",
    "from sklearn.preprocessing import PolynomialFeatures\n",
    "from scipy.optimize import curve_fit\n",
    "from numpy import poly1d,polyfit  \n",
    "from sklearn.model_selection import train_test_split\n",
    "from scipy.integrate import solve_ivp\n",
    "from scipy.optimize import minimize\n",
    "import math\n",
    "import statistics\n",
    "from scipy.integrate import odeint\n",
    "from random import randrange # Obtener un numero randomico\n",
    "import pygame"
   ]
  },
  {
   "cell_type": "markdown",
   "metadata": {},
   "source": [
    "## Paso 2"
   ]
  },
  {
   "cell_type": "markdown",
   "metadata": {},
   "source": [
    "Vamos a seleccionar un pais de latinoamerica que no se repita el mismo pais con mis compañeros el cual todos los pais estan ya designado, vamos a  cojer un pais europeo que es francia"
   ]
  },
  {
   "cell_type": "markdown",
   "metadata": {},
   "source": [
    "vamos a leer nuestro corpus a ver que esta en formato  cvs cargamos nuestro set de datos de nuestro  CORPUS"
   ]
  },
  {
   "cell_type": "code",
   "execution_count": 17,
   "metadata": {},
   "outputs": [
    {
     "data": {
      "text/plain": [
       "(82314, 6)"
      ]
     },
     "execution_count": 17,
     "metadata": {},
     "output_type": "execute_result"
    }
   ],
   "source": [
    "data = pd.read_csv('time-series-19-covid-combined_csv.csv')\n",
    "data.shape"
   ]
  },
  {
   "cell_type": "markdown",
   "metadata": {},
   "source": [
    "## Paso 3"
   ]
  },
  {
   "cell_type": "markdown",
   "metadata": {},
   "source": [
    "vamos a ver como estas nuestro  corpus como estas  estructurado"
   ]
  },
  {
   "cell_type": "code",
   "execution_count": 18,
   "metadata": {},
   "outputs": [
    {
     "data": {
      "text/html": [
       "<div>\n",
       "<style scoped>\n",
       "    .dataframe tbody tr th:only-of-type {\n",
       "        vertical-align: middle;\n",
       "    }\n",
       "\n",
       "    .dataframe tbody tr th {\n",
       "        vertical-align: top;\n",
       "    }\n",
       "\n",
       "    .dataframe thead th {\n",
       "        text-align: right;\n",
       "    }\n",
       "</style>\n",
       "<table border=\"1\" class=\"dataframe\">\n",
       "  <thead>\n",
       "    <tr style=\"text-align: right;\">\n",
       "      <th></th>\n",
       "      <th>Date</th>\n",
       "      <th>Country/Region</th>\n",
       "      <th>Province/State</th>\n",
       "      <th>Confirmed</th>\n",
       "      <th>Recovered</th>\n",
       "      <th>Deaths</th>\n",
       "    </tr>\n",
       "  </thead>\n",
       "  <tbody>\n",
       "    <tr>\n",
       "      <th>0</th>\n",
       "      <td>2020-01-22</td>\n",
       "      <td>Afghanistan</td>\n",
       "      <td>NaN</td>\n",
       "      <td>0</td>\n",
       "      <td>0.0</td>\n",
       "      <td>0</td>\n",
       "    </tr>\n",
       "    <tr>\n",
       "      <th>1</th>\n",
       "      <td>2020-01-23</td>\n",
       "      <td>Afghanistan</td>\n",
       "      <td>NaN</td>\n",
       "      <td>0</td>\n",
       "      <td>0.0</td>\n",
       "      <td>0</td>\n",
       "    </tr>\n",
       "    <tr>\n",
       "      <th>2</th>\n",
       "      <td>2020-01-24</td>\n",
       "      <td>Afghanistan</td>\n",
       "      <td>NaN</td>\n",
       "      <td>0</td>\n",
       "      <td>0.0</td>\n",
       "      <td>0</td>\n",
       "    </tr>\n",
       "    <tr>\n",
       "      <th>3</th>\n",
       "      <td>2020-01-25</td>\n",
       "      <td>Afghanistan</td>\n",
       "      <td>NaN</td>\n",
       "      <td>0</td>\n",
       "      <td>0.0</td>\n",
       "      <td>0</td>\n",
       "    </tr>\n",
       "    <tr>\n",
       "      <th>4</th>\n",
       "      <td>2020-01-26</td>\n",
       "      <td>Afghanistan</td>\n",
       "      <td>NaN</td>\n",
       "      <td>0</td>\n",
       "      <td>0.0</td>\n",
       "      <td>0</td>\n",
       "    </tr>\n",
       "  </tbody>\n",
       "</table>\n",
       "</div>"
      ],
      "text/plain": [
       "         Date Country/Region Province/State  Confirmed  Recovered  Deaths\n",
       "0  2020-01-22    Afghanistan            NaN          0        0.0       0\n",
       "1  2020-01-23    Afghanistan            NaN          0        0.0       0\n",
       "2  2020-01-24    Afghanistan            NaN          0        0.0       0\n",
       "3  2020-01-25    Afghanistan            NaN          0        0.0       0\n",
       "4  2020-01-26    Afghanistan            NaN          0        0.0       0"
      ]
     },
     "execution_count": 18,
     "metadata": {},
     "output_type": "execute_result"
    }
   ],
   "source": [
    "data.head()"
   ]
  },
  {
   "cell_type": "markdown",
   "metadata": {},
   "source": [
    "## Paso 4"
   ]
  },
  {
   "cell_type": "markdown",
   "metadata": {},
   "source": [
    "Vamos a seleccionar nuestro pais seleccionada que es fracia y visualizar los los datos como estas "
   ]
  },
  {
   "cell_type": "code",
   "execution_count": 19,
   "metadata": {},
   "outputs": [
    {
     "data": {
      "text/html": [
       "<div>\n",
       "<style scoped>\n",
       "    .dataframe tbody tr th:only-of-type {\n",
       "        vertical-align: middle;\n",
       "    }\n",
       "\n",
       "    .dataframe tbody tr th {\n",
       "        vertical-align: top;\n",
       "    }\n",
       "\n",
       "    .dataframe thead th {\n",
       "        text-align: right;\n",
       "    }\n",
       "</style>\n",
       "<table border=\"1\" class=\"dataframe\">\n",
       "  <thead>\n",
       "    <tr style=\"text-align: right;\">\n",
       "      <th></th>\n",
       "      <th>Date</th>\n",
       "      <th>Country/Region</th>\n",
       "      <th>Province/State</th>\n",
       "      <th>Confirmed</th>\n",
       "      <th>Recovered</th>\n",
       "      <th>Deaths</th>\n",
       "    </tr>\n",
       "  </thead>\n",
       "  <tbody>\n",
       "    <tr>\n",
       "      <th>35496</th>\n",
       "      <td>2020-01-22</td>\n",
       "      <td>France</td>\n",
       "      <td>French Guiana</td>\n",
       "      <td>0</td>\n",
       "      <td>0.0</td>\n",
       "      <td>0</td>\n",
       "    </tr>\n",
       "    <tr>\n",
       "      <th>35497</th>\n",
       "      <td>2020-01-23</td>\n",
       "      <td>France</td>\n",
       "      <td>French Guiana</td>\n",
       "      <td>0</td>\n",
       "      <td>0.0</td>\n",
       "      <td>0</td>\n",
       "    </tr>\n",
       "    <tr>\n",
       "      <th>35498</th>\n",
       "      <td>2020-01-24</td>\n",
       "      <td>France</td>\n",
       "      <td>French Guiana</td>\n",
       "      <td>0</td>\n",
       "      <td>0.0</td>\n",
       "      <td>0</td>\n",
       "    </tr>\n",
       "    <tr>\n",
       "      <th>35499</th>\n",
       "      <td>2020-01-25</td>\n",
       "      <td>France</td>\n",
       "      <td>French Guiana</td>\n",
       "      <td>0</td>\n",
       "      <td>0.0</td>\n",
       "      <td>0</td>\n",
       "    </tr>\n",
       "    <tr>\n",
       "      <th>35500</th>\n",
       "      <td>2020-01-26</td>\n",
       "      <td>France</td>\n",
       "      <td>French Guiana</td>\n",
       "      <td>0</td>\n",
       "      <td>0.0</td>\n",
       "      <td>0</td>\n",
       "    </tr>\n",
       "  </tbody>\n",
       "</table>\n",
       "</div>"
      ],
      "text/plain": [
       "             Date Country/Region Province/State  Confirmed  Recovered  Deaths\n",
       "35496  2020-01-22         France  French Guiana          0        0.0       0\n",
       "35497  2020-01-23         France  French Guiana          0        0.0       0\n",
       "35498  2020-01-24         France  French Guiana          0        0.0       0\n",
       "35499  2020-01-25         France  French Guiana          0        0.0       0\n",
       "35500  2020-01-26         France  French Guiana          0        0.0       0"
      ]
     },
     "execution_count": 19,
     "metadata": {},
     "output_type": "execute_result"
    }
   ],
   "source": [
    "data = data[data['Country/Region'].isin(['France'])]\n",
    "data.head()"
   ]
  },
  {
   "cell_type": "markdown",
   "metadata": {},
   "source": [
    "## Paso 5 "
   ]
  },
  {
   "cell_type": "markdown",
   "metadata": {},
   "source": [
    "Vamos a visualizar los datos mediante una grafica donde nos muestra como a hido incrementando los infectados"
   ]
  },
  {
   "cell_type": "code",
   "execution_count": 20,
   "metadata": {},
   "outputs": [
    {
     "data": {
      "text/plain": [
       "[<matplotlib.lines.Line2D at 0x13e30187040>]"
      ]
     },
     "execution_count": 20,
     "metadata": {},
     "output_type": "execute_result"
    },
    {
     "data": {
      "image/png": "[encoded data removed]",
      "text/plain": [
       "<Figure size 432x288 with 1 Axes>"
      ]
     },
     "metadata": {
      "needs_background": "light"
     },
     "output_type": "display_data"
    }
   ],
   "source": [
    "infectados = list(data.iloc[:, 5])\n",
    "formatoFecha = '%Y-%m-%d'\n",
    "fecha = data['Date']\n",
    "data['Date'] = fecha.map(lambda x: (datetime.strptime(x, formatoFecha) - datetime.strptime('2020-01-22', formatoFecha)).days)\n",
    "dias = list(data['Date'])\n",
    "plt.plot(dias, infectados)"
   ]
  },
  {
   "cell_type": "code",
   "execution_count": 21,
   "metadata": {},
   "outputs": [
    {
     "data": {
      "text/html": [
       "<div>\n",
       "<style scoped>\n",
       "    .dataframe tbody tr th:only-of-type {\n",
       "        vertical-align: middle;\n",
       "    }\n",
       "\n",
       "    .dataframe tbody tr th {\n",
       "        vertical-align: top;\n",
       "    }\n",
       "\n",
       "    .dataframe thead th {\n",
       "        text-align: right;\n",
       "    }\n",
       "</style>\n",
       "<table border=\"1\" class=\"dataframe\">\n",
       "  <thead>\n",
       "    <tr style=\"text-align: right;\">\n",
       "      <th></th>\n",
       "      <th>Date</th>\n",
       "      <th>Confirmed</th>\n",
       "      <th>Recovered</th>\n",
       "      <th>Deaths</th>\n",
       "    </tr>\n",
       "  </thead>\n",
       "  <tbody>\n",
       "    <tr>\n",
       "      <th>count</th>\n",
       "      <td>3366.000000</td>\n",
       "      <td>3.366000e+03</td>\n",
       "      <td>3366.000000</td>\n",
       "      <td>3366.000000</td>\n",
       "    </tr>\n",
       "    <tr>\n",
       "      <th>mean</th>\n",
       "      <td>152.500000</td>\n",
       "      <td>3.371225e+04</td>\n",
       "      <td>5741.824421</td>\n",
       "      <td>2089.846108</td>\n",
       "    </tr>\n",
       "    <tr>\n",
       "      <th>std</th>\n",
       "      <td>88.347244</td>\n",
       "      <td>1.800635e+05</td>\n",
       "      <td>18887.939302</td>\n",
       "      <td>7768.329601</td>\n",
       "    </tr>\n",
       "    <tr>\n",
       "      <th>min</th>\n",
       "      <td>0.000000</td>\n",
       "      <td>0.000000e+00</td>\n",
       "      <td>0.000000</td>\n",
       "      <td>0.000000</td>\n",
       "    </tr>\n",
       "    <tr>\n",
       "      <th>25%</th>\n",
       "      <td>76.000000</td>\n",
       "      <td>6.000000e+00</td>\n",
       "      <td>1.000000</td>\n",
       "      <td>0.000000</td>\n",
       "    </tr>\n",
       "    <tr>\n",
       "      <th>50%</th>\n",
       "      <td>152.500000</td>\n",
       "      <td>8.300000e+01</td>\n",
       "      <td>55.500000</td>\n",
       "      <td>1.000000</td>\n",
       "    </tr>\n",
       "    <tr>\n",
       "      <th>75%</th>\n",
       "      <td>229.000000</td>\n",
       "      <td>1.851000e+03</td>\n",
       "      <td>631.000000</td>\n",
       "      <td>16.000000</td>\n",
       "    </tr>\n",
       "    <tr>\n",
       "      <th>max</th>\n",
       "      <td>305.000000</td>\n",
       "      <td>2.140829e+06</td>\n",
       "      <td>129722.000000</td>\n",
       "      <td>48398.000000</td>\n",
       "    </tr>\n",
       "  </tbody>\n",
       "</table>\n",
       "</div>"
      ],
      "text/plain": [
       "              Date     Confirmed      Recovered        Deaths\n",
       "count  3366.000000  3.366000e+03    3366.000000   3366.000000\n",
       "mean    152.500000  3.371225e+04    5741.824421   2089.846108\n",
       "std      88.347244  1.800635e+05   18887.939302   7768.329601\n",
       "min       0.000000  0.000000e+00       0.000000      0.000000\n",
       "25%      76.000000  6.000000e+00       1.000000      0.000000\n",
       "50%     152.500000  8.300000e+01      55.500000      1.000000\n",
       "75%     229.000000  1.851000e+03     631.000000     16.000000\n",
       "max     305.000000  2.140829e+06  129722.000000  48398.000000"
      ]
     },
     "execution_count": 21,
     "metadata": {},
     "output_type": "execute_result"
    }
   ],
   "source": [
    "data.describe()"
   ]
  },
  {
   "cell_type": "markdown",
   "metadata": {},
   "source": [
    "## Paso 6"
   ]
  },
  {
   "cell_type": "markdown",
   "metadata": {},
   "source": [
    "Vamosa  ver como esta  los variables que vamos  a predecir  como estan reflejadas"
   ]
  },
  {
   "cell_type": "code",
   "execution_count": 27,
   "metadata": {},
   "outputs": [
    {
     "data": {
      "image/png": "[encoded data removed]",
      "text/plain": [
       "<Figure size 432x288 with 2 Axes>"
      ]
     },
     "metadata": {
      "needs_background": "light"
     },
     "output_type": "display_data"
    }
   ],
   "source": [
    "data.drop(['Country/Region','Province/State','Recovered', 'Deaths'],1).hist()\n",
    "plt.show()"
   ]
  },
  {
   "cell_type": "markdown",
   "metadata": {},
   "source": [
    "## Regrecion Lineal"
   ]
  },
  {
   "cell_type": "markdown",
   "metadata": {},
   "source": [
    "Vamos a  realizar la regrescion ineal lo cual vamos a crearnos nuestra regescion lineal y vamso a ver  como esta a fectando  los contagion en 7 dias"
   ]
  },
  {
   "cell_type": "code",
   "execution_count": 63,
   "metadata": {},
   "outputs": [
    {
     "data": {
      "image/png": "[encoded data removed]",
      "text/plain": [
       "<Figure size 432x288 with 1 Axes>"
      ]
     },
     "metadata": {
      "needs_background": "light"
     },
     "output_type": "display_data"
    }
   ],
   "source": [
    "lineal = linear_model.LinearRegression()\n",
    "lineal.fit(np.array(data['Date']).reshape(-1,1), data['Confirmed'])\n",
    "plt.plot(data['Date'], data['Confirmed'], '.')\n",
    "plt.plot(data['Date'], lineal.predict(np.array(data['Date']).reshape(-1, 1)))\n",
    "con = 1\n",
    "for i in range(326, 333):\n",
    "    prediccion = lineal.predict([[i]])\n",
    "    con += 1"
   ]
  },
  {
   "cell_type": "markdown",
   "metadata": {},
   "source": [
    "## Regrecion Exponencial"
   ]
  },
  {
   "cell_type": "markdown",
   "metadata": {},
   "source": [
    "Como  bien  hemos venido  viendo  las regrescion lineal vamos a  elevorar un  medoto donde nos de nuestra regrecion lineal  y conparar nuestros datos  a ver si tenesmo una mejor  disponibildad  de datos  y ver como afecta a los infectados en 7 dias"
   ]
  },
  {
   "cell_type": "code",
   "execution_count": 86,
   "metadata": {},
   "outputs": [
    {
     "name": "stdout",
     "output_type": "stream",
     "text": [
      "7 dias de infeccion :  [  8132.9584435    8134.47856342   8136.04027206 ... 206045.79995924\n",
      " 211461.98683855 217026.35433533]\n"
     ]
    },
    {
     "data": {
      "text/plain": [
       "[<matplotlib.lines.Line2D at 0x13e3480f9d0>]"
      ]
     },
     "execution_count": 86,
     "metadata": {},
     "output_type": "execute_result"
    },
    {
     "data": {
      "image/png": "[encoded data removed]",
      "text/plain": [
       "<Figure size 432x288 with 1 Axes>"
      ]
     },
     "metadata": {
      "needs_background": "light"
     },
     "output_type": "display_data"
    }
   ],
   "source": [
    "def exponencial(x, c0, c1, c2, c3):\n",
    "    return c0 * np.exp(-c1 * x) + c2 + c3\n",
    "g = [100, 0.0001, 200, 0.0001]\n",
    "y = np.empty(len(data['Date']))\n",
    "for i in range(len(data['Date'])):\n",
    "    y[i] = exponencial(dias[i], g[0], g[1], g[2], g[3])\n",
    "popt, pcov = curve_fit(exponencial, data['Date'], data['Confirmed'], g)\n",
    "for i in range(len(data['Date'])):\n",
    "    y[i] = exponencial(dias[i], popt[0], popt[1], popt[2], popt[3])\n",
    "print('7 dias de infeccion : ',y)\n",
    "plt.plot(data['Date'], data['Confirmed'])\n",
    "plt.plot(data['Date'], y)"
   ]
  },
  {
   "cell_type": "markdown",
   "metadata": {},
   "source": [
    "## Regresion Polinomial"
   ]
  },
  {
   "cell_type": "markdown",
   "metadata": {},
   "source": [
    "La Regresión Polinomial es un caso especial de la Regresión Lineal, extiende el modelo lineal al agregar predictores adicionales, obtenidos al elevar cada uno de los predictores originales a una potencia. Por ejemplo, una regresión cúbica utiliza tres variables, como predictores. Este enfoque proporciona una forma sencilla de proporcionar un ajuste no lineal a los datos.\n",
    "\n",
    "El método estándar para extender la Regresión Lineal a una relación no lineal entre las variables dependientes e independientes, ha sido reemplazar el modelo lineal con una función polinomial.\n",
    "\n",
    "De manera que vamos a  ver si podemos  ver si esta regrecion es mejor que la regrescion lineal o no nos ayuda en nada"
   ]
  },
  {
   "cell_type": "code",
   "execution_count": 100,
   "metadata": {},
   "outputs": [
    {
     "data": {
      "text/plain": [
       "[<matplotlib.lines.Line2D at 0x13e346e8e50>]"
      ]
     },
     "execution_count": 100,
     "metadata": {},
     "output_type": "execute_result"
    },
    {
     "data": {
      "image/png": "[encoded data removed]",
      "text/plain": [
       "<Figure size 432x288 with 1 Axes>"
      ]
     },
     "metadata": {
      "needs_background": "light"
     },
     "output_type": "display_data"
    }
   ],
   "source": [
    "plt.plot(data['Date'], data['Confirmed'])\n",
    "p = poly1d(polyfit(data['Date'], data['Confirmed'], deg=4))\n",
    "Xtrain, Xtest, y_train, y_test = train_test_split(data['Date'], data['Confirmed'], test_size=0.01)\n",
    "poli_reg = PolynomialFeatures(degree = 3)\n",
    "X_train = poli_reg.fit_transform(np.array(Xtrain).reshape(-1,1))\n",
    "X_test = poli_reg.fit_transform(np.array(Xtest).reshape(-1,1))\n",
    "pr = linear_model.LinearRegression()\n",
    "pr.fit(X_train, y_train)\n",
    "Y_pred_pr = pr.predict(X_test)\n",
    "plt.plot(Xtest, Y_pred_pr, color='black')"
   ]
  },
  {
   "cell_type": "markdown",
   "metadata": {},
   "source": [
    "## Conclucion"
   ]
  },
  {
   "cell_type": "markdown",
   "metadata": {},
   "source": [
    "Como conclucion podemos decir que las regresion  que hemos resuelta con nuestro corpus de datos que hemos seleccionado podemos ver una gran desvarianza de valores lo cual podemos decir que el mejor metodo  para resolver es el metodo de poliminial ya que podemos verificar una  que sus punto de interceccion va cambiando y  aumentandoy se va adaptando a los datos obtenidos de mejor manera."
   ]
  },
  {
   "cell_type": "code",
   "execution_count": null,
   "metadata": {},
   "outputs": [],
   "source": []
  }
 ],
 "metadata": {
  "kernelspec": {
   "display_name": "Python 3",
   "language": "python",
   "name": "python3"
  },
  "language_info": {
   "codemirror_mode": {
    "name": "ipython",
    "version": 3
   },
   "file_extension": ".py",
   "mimetype": "text/x-python",
   "name": "python",
   "nbconvert_exporter": "python",
   "pygments_lexer": "ipython3",
   "version": "3.8.5"
  }
 },
 "nbformat": 4,
 "nbformat_minor": 4
}
