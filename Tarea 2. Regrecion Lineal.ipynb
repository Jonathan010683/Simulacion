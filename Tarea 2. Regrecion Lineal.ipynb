{
 "cells": [
  {
   "cell_type": "markdown",
   "metadata": {},
   "source": [
    "<center><h1>Regrecion lineal</h1></center>\n",
    "\n",
    "Para presentar un regresion lineal realizaremos un ejemplo que representa el eje de las x como la edad de los niños y el eje de las y representa la cantidad de inversion de dineros segun la edad que tiene un niño\n",
    "Para comprobar vamos a realizar un programa en python donde podemos verificar como se relaisa la regresion lineal\n",
    "\n"
   ]
  },
  {
   "cell_type": "markdown",
   "metadata": {},
   "source": [
    "## Paso 1:\n",
    "\n",
    "Vamos a imortar las librerias que necesitamos en python"
   ]
  },
  {
   "cell_type": "code",
   "execution_count": 32,
   "metadata": {},
   "outputs": [],
   "source": [
    "import matplotlib.pyplot as plt\n",
    "import numpy as np\n",
    "import math as mt\n",
    "import matplotlib.pyplot as plt \n",
    "from sklearn.metrics import mean_squared_error\n",
    "from sklearn.linear_model import LinearRegression"
   ]
  },
  {
   "cell_type": "markdown",
   "metadata": {},
   "source": [
    "## Paso 2:\n",
    "\n",
    "Vamos definir los puntos que vamos a necesitar para poder evaluar nuestra regresion lineal lo cual vamos a generar puntos que nos ayude a esto"
   ]
  },
  {
   "cell_type": "code",
   "execution_count": 33,
   "metadata": {},
   "outputs": [],
   "source": [
    "def generar_datos(): \n",
    "    x = np.random.random(20)*10 \n",
    "    y = np.random.random(20)*10 \n",
    "    return x.reshape((20,1)), y.reshape((20,1))\n",
    "X=np.array(generar_datos()[0])\n",
    "Y=np.array(generar_datos()[1])"
   ]
  },
  {
   "cell_type": "markdown",
   "metadata": {},
   "source": [
    "## Paso 3:\n",
    "\n",
    "Vamos a graficar  todos los puntos que generamos a ver como estas en nuestra grafica"
   ]
  },
  {
   "cell_type": "code",
   "execution_count": 41,
   "metadata": {},
   "outputs": [
    {
     "data": {
      "image/png": "[encoded data removed]",
      "text/plain": [
       "<Figure size 432x288 with 1 Axes>"
      ]
     },
     "metadata": {
      "needs_background": "light"
     },
     "output_type": "display_data"
    }
   ],
   "source": [
    "plt.plot(X,Y,'.',color=\"blue\")\n",
    "plt.grid(True)\n",
    "plt.show()\n",
    "ex=sum(X)\n",
    "ey=sum(Y)\n",
    "exy=sum(X*Y)\n",
    "exx=sum(X*X)\n",
    "lon=len(X)"
   ]
  },
  {
   "cell_type": "code",
   "execution_count": 42,
   "metadata": {},
   "outputs": [
    {
     "name": "stdout",
     "output_type": "stream",
     "text": [
      "dato [378.37323205]\n",
      "y = -0.144x + 3.5363\n"
     ]
    }
   ],
   "source": [
    "m=(lon*exy-sum(X)*sum(Y))/(lon*exx-mt.pow(abs(ex),2))\n",
    "b=(ey*exx-ex*exy)/(lon*exx-mt.pow(abs(ex),2))\n",
    "print('dato',exy)\n",
    "ecua=\"\"\n",
    "m=round(m[0],4)\n",
    "b=round(b[0],4)\n",
    "if (b < 0):\n",
    "    ecua='y = {}x {}'\n",
    "else:\n",
    "    ecua='y = {}x + {}'\n",
    "print(ecua.format(-1*m,b))"
   ]
  },
  {
   "cell_type": "code",
   "execution_count": 50,
   "metadata": {
    "scrolled": true
   },
   "outputs": [
    {
     "data": {
      "image/png": "[encoded data removed]",
      "text/plain": [
       "<Figure size 432x288 with 1 Axes>"
      ]
     },
     "metadata": {
      "needs_background": "light"
     },
     "output_type": "display_data"
    }
   ],
   "source": [
    "fu=lambda x: m*x+b\n",
    "li=np.arange(min(X)-1.0,max(X)+5.0,0.5)\n",
    "plt.plot(X,Y,'.',color=\"blue\")\n",
    "plt.axhline(y=0,color=\"black\")\n",
    "plt.axvline(x=0,color=\"black\")\n",
    "plt.plot(li,fu(li),color=\"red\")\n",
    "plt.grid(True)\n",
    "plt.show()\n"
   ]
  },
  {
   "cell_type": "markdown",
   "metadata": {},
   "source": [
    "## Regresión Lineal con scikit-learn"
   ]
  },
  {
   "cell_type": "markdown",
   "metadata": {},
   "source": [
    "Vamos a generar valor de  0 a 50 en los intervalos de 0.4  y vamso a graficar para ver como estas nuestros puntos generado "
   ]
  },
  {
   "cell_type": "code",
   "execution_count": 58,
   "metadata": {},
   "outputs": [],
   "source": [
    "def f(x):\n",
    "    np.random.seed(42)\n",
    "    y = 0.1*x + 1.25 + 0.2*np.random.randn(x.shape[0])\n",
    "    return y"
   ]
  },
  {
   "cell_type": "markdown",
   "metadata": {},
   "source": [
    "### Generamos  numeros de 0 a 30 en interalos  de 0.4"
   ]
  },
  {
   "cell_type": "code",
   "execution_count": 73,
   "metadata": {},
   "outputs": [],
   "source": [
    "x = np.arange(0, 30 , 0.4) \n",
    "y = f(x)"
   ]
  },
  {
   "cell_type": "markdown",
   "metadata": {},
   "source": [
    "### Grafica"
   ]
  },
  {
   "cell_type": "code",
   "execution_count": 74,
   "metadata": {},
   "outputs": [
    {
     "data": {
      "image/png": "[encoded data removed]",
      "text/plain": [
       "<Figure size 432x288 with 1 Axes>"
      ]
     },
     "metadata": {
      "needs_background": "light"
     },
     "output_type": "display_data"
    }
   ],
   "source": [
    "plt.scatter(x,y,label='data', color='blue')\n",
    "plt.grid(True)\n",
    "plt.title('Datos');"
   ]
  },
  {
   "cell_type": "markdown",
   "metadata": {},
   "source": [
    "### Creamos una instancia de LinearRegression"
   ]
  },
  {
   "cell_type": "code",
   "execution_count": 75,
   "metadata": {},
   "outputs": [],
   "source": [
    "regresion_lineal = LinearRegression() "
   ]
  },
  {
   "cell_type": "markdown",
   "metadata": {},
   "source": [
    "### Ingresamos los dato(x,y) a nestra regresion lineal"
   ]
  },
  {
   "cell_type": "code",
   "execution_count": 76,
   "metadata": {},
   "outputs": [
    {
     "data": {
      "text/plain": [
       "LinearRegression()"
      ]
     },
     "execution_count": 76,
     "metadata": {},
     "output_type": "execute_result"
    }
   ],
   "source": [
    "regresion_lineal.fit(x.reshape(-1,1), y) "
   ]
  },
  {
   "cell_type": "markdown",
   "metadata": {},
   "source": [
    "### Revisamos los parametros"
   ]
  },
  {
   "cell_type": "code",
   "execution_count": 77,
   "metadata": {},
   "outputs": [
    {
     "name": "stdout",
     "output_type": "stream",
     "text": [
      "w = [0.10118582], b = 1.209459534633981\n"
     ]
    }
   ],
   "source": [
    "print('w = ' + str(regresion_lineal.coef_) + ', b = ' + str(regresion_lineal.intercept_))"
   ]
  },
  {
   "cell_type": "code",
   "execution_count": 78,
   "metadata": {},
   "outputs": [],
   "source": [
    "fu=lambda x: regresion_lineal.coef_*x+regresion_lineal.intercept_\n",
    "li=np.arange(min(x)-5.0,max(x)+5.0,0.5)"
   ]
  },
  {
   "cell_type": "markdown",
   "metadata": {},
   "source": [
    "## Graficamos nuestra regresion lineal"
   ]
  },
  {
   "cell_type": "code",
   "execution_count": 79,
   "metadata": {},
   "outputs": [
    {
     "data": {
      "image/png": "[encoded data removed]",
      "text/plain": [
       "<Figure size 432x288 with 1 Axes>"
      ]
     },
     "metadata": {
      "needs_background": "light"
     },
     "output_type": "display_data"
    }
   ],
   "source": [
    "plt.scatter(x,y,label='data', color='blue')\n",
    "plt.plot(li,fu(li),color=\"red\")\n",
    "plt.grid(True)\n",
    "plt.show()"
   ]
  }
 ],
 "metadata": {
  "kernelspec": {
   "display_name": "Python 3",
   "language": "python",
   "name": "python3"
  },
  "language_info": {
   "codemirror_mode": {
    "name": "ipython",
    "version": 3
   },
   "file_extension": ".py",
   "mimetype": "text/x-python",
   "name": "python",
   "nbconvert_exporter": "python",
   "pygments_lexer": "ipython3",
   "version": "3.8.5"
  }
 },
 "nbformat": 4,
 "nbformat_minor": 4
}
