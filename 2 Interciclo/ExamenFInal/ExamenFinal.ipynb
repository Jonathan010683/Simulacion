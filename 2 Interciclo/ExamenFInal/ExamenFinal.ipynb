{
 "cells": [
  {
   "cell_type": "markdown",
   "metadata": {},
   "source": [
    "<center><h1>Universidad politecnica Salesiana</h1></center>\n",
    "<center><h2>Examen final de simulacion</h2></center>"
   ]
  },
  {
   "cell_type": "markdown",
   "metadata": {},
   "source": [
    "Objetivo:\n",
    "\n",
    "•\tConsolidar los conocimientos adquiridos en clase para desarrollar simulaciones automática de procesos RPA.\n"
   ]
  },
  {
   "cell_type": "markdown",
   "metadata": {},
   "source": [
    "Introducción:\n",
    "\n",
    "“Robotic Process Automation” o “automatización robótica de procesos” es la ejecución de procesos, actividades/ tareas digitales de negocio a través de un empleado robot basado en software (bot) el cual sigue una serie de reglas programadas por una persona, simulando la ejecución humana de una tarea repetitiva.\n",
    "Una de las áreas en la que se utiliza son las de marketing digital: Procesamiento de estadísticas y generación de informes, Extracción de información de bases de datos, Generación de emails masivos y Recolectar estadísticas de redes sociales. Entra las tareas que se pueden automatizar están:"
   ]
  },
  {
   "cell_type": "markdown",
   "metadata": {},
   "source": [
    "Email Marketing: Automatizar tu estrategia de email marketing aportará grandes ventajas a tu proyecto. Es uno de los procesos automáticos a los que puedes sacar mucho beneficio, si lo haces bien.\n",
    "\n",
    "- Redes Sociales: Por último, y no menos importante, puedes automatizar tus redes sociales o las de tu negocio. Aquí distinguiremos en 2 procesos:\n",
    "\n",
    "- PUBLICAR EN REDES SOCIALES: Está bien que publiques tus posts antiguos o los nuevos de forma automática.\n",
    "- GENERAR INFORMES: Imagina el tiempo que emplearías en generar un informe en Excel de cada red social de tu negocio,\n"
   ]
  },
  {
   "cell_type": "markdown",
   "metadata": {},
   "source": [
    "Enunciado:\n",
    "\n",
    "- En base a ello, diseñe y desarrolle un modelo y/o script que permita realizar marketing digital automatizado del proceso de campaña política para un partido:\n",
    "\n",
    "- Generar un documento de Excel Online o Google Drive Calc en donde se tenga un listado de las persona para enviar la notificación por email el mismo que constara de: Nombre, Apellido, Email, Estado (Activo/Desactivo).\n",
    "- Se debe generar un flyer (canvas.com) o imagen (PaintOnline), etc. que permitan identificar la fecha de publicación, hora, candidato, partido y cualquier dato de interés adicional.\n",
    "- Ademas, deben de publicar dentro de cualquier red social(facebook, instagram, twitter, etc.) el flyer o imagen para ello pueden utilizar sus cuentas personales o crear una cuenta para esta tarea.\n",
    "- Después, enviar por email el flyer o imagen generada (los correos se encuentran en el primer archivo).\n",
    "- Finalmente, generar un informe de las personas que visitaron la red social, comentaron o realizaron algún tipo de acción o evento y guardarlo en el GIT o en un documento en Google Drive.\n",
    "\n"
   ]
  },
  {
   "cell_type": "markdown",
   "metadata": {},
   "source": [
    "### Desarrollo de Examen"
   ]
  },
  {
   "cell_type": "markdown",
   "metadata": {},
   "source": [
    "Generar un documento de Excel Online o Google Drive Calc en donde se tenga un listado de las persona para enviar la notificación por email el mismo que constara de: Nombre, Apellido, Email, Estado (Activo/Desactivo)."
   ]
  },
  {
   "cell_type": "markdown",
   "metadata": {},
   "source": [
    "https://onedrive.live.com/edit.aspx?resid=8CD4035E1CAEBD63!328&cid=77baf08d-ee55-4d85-84bd-d1893c542c62&ithint=file%2cxlsx&wdOrigin=OFFICECOM-WEB.START.MRU"
   ]
  },
  {
   "cell_type": "markdown",
   "metadata": {},
   "source": [
    "Se debe generar un flyer (canvas.com) o imagen (PaintOnline), etc. que permitan identificar la fecha de publicación, hora, candidato, partido y cualquier dato de interés adicional."
   ]
  },
  {
   "cell_type": "markdown",
   "metadata": {},
   "source": [
    "<img src=\"yaku.jpg\">"
   ]
  },
  {
   "cell_type": "markdown",
   "metadata": {},
   "source": [
    "### Publicacion en facebook\n",
    "Ademas, deben de publicar dentro de cualquier red social(facebook, instagram, twitter, etc.) el flyer o imagen para ello pueden utilizar sus cuentas personales o crear una cuenta para esta tarea."
   ]
  },
  {
   "cell_type": "code",
   "execution_count": 6,
   "metadata": {},
   "outputs": [],
   "source": [
    "from selenium import webdriver\n",
    "from selenium.webdriver.common.keys import Keys\n",
    "from selenium.common.exceptions import TimeoutException\n",
    "from time import sleep\n",
    "from selenium.webdriver.support.ui import WebDriverWait\n",
    "from selenium.webdriver.support.ui import Select\n",
    "from selenium.webdriver.common.by import By\n",
    "from selenium.webdriver.support import expected_conditions\n",
    "from selenium.common.exceptions import NoSuchElementException\n",
    "import time\n",
    "import os\n",
    "import pyautogui\n",
    "\n",
    "def main():\n",
    "\n",
    "    usr = \"jonatanuzhca@yahoo.com\"\n",
    "    pwd = \"****************\"\n",
    "    \n",
    "\n",
    "    driver = webdriver.Firefox(executable_path=r'C:\\dirverFirefox\\geckodriver.exe')\n",
    "\n",
    "    \n",
    "    driver.get(\"http://www.facebook.com\")\n",
    "    sleep(2)\n",
    "    \n",
    "    elem = driver.find_element_by_id(\"email\")\n",
    "    elem.send_keys(usr)\n",
    "   \n",
    "    elem = driver.find_element_by_id(\"pass\")\n",
    "    elem.send_keys(pwd)\n",
    "   \n",
    "    elem.send_keys(Keys.RETURN)\n",
    "    sleep(20)\n",
    "    \n",
    "    elem = driver.find_element_by_xpath(\"/html/body/div[1]/div/div[1]/div/div[3]/div/div/div[1]/div[1]/div/div[2]/div/div/div[3]/div/div[2]/div/div/div/div[2]/div[2]/div[1]/span[2]/span\").click()\n",
    "    sleep(5)\n",
    "    \n",
    "    pyautogui.write(\"yaku\")\n",
    "    pyautogui.press(\"enter\")\n",
    "    \n",
    "    sleep(8)\n",
    "    elem = driver.find_element_by_xpath(\"/html/body/div[1]/div/div[1]/div/div[4]/div/div/div[1]/div/div[2]/div/div/div/form/div/div[1]/div/div/div[3]/div[2]/div\").click()\n",
    "\n",
    "\n",
    "\n",
    "if __name__ == '__main__':\n",
    "    main()\n",
    " "
   ]
  },
  {
   "cell_type": "markdown",
   "metadata": {},
   "source": [
    "<img src=\"foto1.png\">"
   ]
  },
  {
   "cell_type": "markdown",
   "metadata": {},
   "source": [
    "<img src=\"foto2.png\">"
   ]
  },
  {
   "cell_type": "markdown",
   "metadata": {},
   "source": [
    "<img src=\"foto3.png\">"
   ]
  },
  {
   "cell_type": "markdown",
   "metadata": {},
   "source": [
    "<img src=\"foto4.png\">"
   ]
  },
  {
   "cell_type": "markdown",
   "metadata": {},
   "source": [
    "<img src=\"foto5.png\">"
   ]
  },
  {
   "cell_type": "code",
   "execution_count": null,
   "metadata": {},
   "outputs": [],
   "source": []
  }
 ],
 "metadata": {
  "kernelspec": {
   "display_name": "Python 3",
   "language": "python",
   "name": "python3"
  },
  "language_info": {
   "codemirror_mode": {
    "name": "ipython",
    "version": 3
   },
   "file_extension": ".py",
   "mimetype": "text/x-python",
   "name": "python",
   "nbconvert_exporter": "python",
   "pygments_lexer": "ipython3",
   "version": "3.8.5"
  }
 },
 "nbformat": 4,
 "nbformat_minor": 4
}
