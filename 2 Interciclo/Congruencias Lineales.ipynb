{
 "cells": [
  {
   "cell_type": "markdown",
   "metadata": {},
   "source": [
    "<center><h1>Universidad Politecnica Salesiana</h1></center>\n",
    "<center><h2>Simulacion</h2></center>\n",
    "<center><h3>Congruencias Lineales</h3></center>"
   ]
  },
  {
   "cell_type": "code",
   "execution_count": 11,
   "metadata": {},
   "outputs": [
    {
     "name": "stdout",
     "output_type": "stream",
     "text": [
      "Valor de la semilla : 3\n",
      "Valor del multiplicador : 1\n",
      "Valor de la constante aditiva : 2\n",
      "Valor del modulo : 6\n",
      "Congruencias Lineales\n",
      "0 3 0.5 5\n",
      "1 5 0.8333 1\n",
      "2 1 0.1667 3\n"
     ]
    }
   ],
   "source": [
    "def congrulineales(x, a, c, m):\n",
    "    p = 0\n",
    "    b = 0\n",
    "    cn = 0\n",
    "    n = 0\n",
    "    print(\"Congruencias Lineales\")\n",
    "    while(b != x):\n",
    "        if (p == 0):\n",
    "            b = x\n",
    "        n=x\n",
    "        x = (a * x + c) % m\n",
    "        print(cn, n, round(n/m,4), x)\n",
    "        p = p + 1\n",
    "        cn=cn+1\n",
    "        \n",
    "def main():\n",
    "    congrulineales(int(input(\"Valor de la semilla : \")), int(input(\"Valor del multiplicador : \")),int(input(\"Valor de la constante aditiva : \")),int(input(\"Valor del modulo : \")))\n",
    "\n",
    "if __name__ == \"__main__\":\n",
    "    \n",
    "    main()\n",
    "    "
   ]
  }
 ],
 "metadata": {
  "kernelspec": {
   "display_name": "Python 3",
   "language": "python",
   "name": "python3"
  },
  "language_info": {
   "codemirror_mode": {
    "name": "ipython",
    "version": 3
   },
   "file_extension": ".py",
   "mimetype": "text/x-python",
   "name": "python",
   "nbconvert_exporter": "python",
   "pygments_lexer": "ipython3",
   "version": "3.8.5"
  }
 },
 "nbformat": 4,
 "nbformat_minor": 4
}
