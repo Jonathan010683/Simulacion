{
 "cells": [
  {
   "cell_type": "markdown",
   "metadata": {},
   "source": [
    "<center><h1>Universidad Politecnica Salesiana</h1></center>\n",
    "<center><h2>Simulacion</h2></center>\n",
    "<center><h3>Numeros PseudoAleatorios</h3></center>"
   ]
  },
  {
   "cell_type": "code",
   "execution_count": 26,
   "metadata": {},
   "outputs": [],
   "source": [
    "import cpuinfo\n",
    "n = float(cpuinfo.get_cpu_info()['count'])\n",
    "vel = float(cpuinfo.get_cpu_info()['hz_advertised_friendly'].split(\" \")[0])\n",
    "flops = n*vel*8\n",
    "mflops=int(flops*1024)"
   ]
  },
  {
   "cell_type": "code",
   "execution_count": 27,
   "metadata": {},
   "outputs": [],
   "source": [
    "cpu_uso=psutil.cpu_percent()\n",
    "ram=psutil.virtual_memory().total\n",
    "ram_uso=psutil.virtual_memory().used\n",
    "cache = psutil.virtual_memory()"
   ]
  },
  {
   "cell_type": "code",
   "execution_count": 38,
   "metadata": {},
   "outputs": [],
   "source": [
    "valores =[453, mflops, cpu_uso, ram, ram_uso, cache,  185925, 21041, 8265, 261119, 20127]\n",
    "valor = [23,12]\n",
    "def gPos(d):\n",
    "    aux1 =0\n",
    "    aux2 =0\n",
    "    if digs%2 !=0:\n",
    "        aux1 = int(d/2)\n",
    "        aux2 = int(d/2)+1\n",
    "    else:\n",
    "        aux1 = int(d/2)\n",
    "        aux2 = aux1\n",
    "    return aux1,aux2\n",
    "\n",
    "def cNume(iters, val, digs):\n",
    "    semilla = int(val)\n",
    "    aum = gPos(digs)\n",
    "    \n",
    "    for i in range(iters):\n",
    "        xn2= semilla**2\n",
    "        lon = len(str(xn2))\n",
    "        ui = str(xn2)[int(lon/2)-aum[0]:int(lon/2)+aum[1]]\n",
    "        rn = int(ui)/10**digs\n",
    "        print(i, \" \",semilla,\" \",xn2, \" \", lon, \" \",ui, \" \", rn)\n",
    "        semilla=int(ui)\n",
    "    print(\"   \")"
   ]
  },
  {
   "cell_type": "code",
   "execution_count": 39,
   "metadata": {},
   "outputs": [
    {
     "name": "stdout",
     "output_type": "stream",
     "text": [
      "i:  23\n",
      "0   23   529   3   9   0.0009\n",
      "1   9   81   2   1   0.0001\n",
      "2   1   1   1   1   0.0001\n",
      "3   1   1   1   1   0.0001\n",
      "4   1   1   1   1   0.0001\n",
      "5   1   1   1   1   0.0001\n",
      "6   1   1   1   1   0.0001\n",
      "7   1   1   1   1   0.0001\n",
      "8   1   1   1   1   0.0001\n",
      "9   1   1   1   1   0.0001\n",
      "10   1   1   1   1   0.0001\n",
      "11   1   1   1   1   0.0001\n",
      "12   1   1   1   1   0.0001\n",
      "13   1   1   1   1   0.0001\n",
      "14   1   1   1   1   0.0001\n",
      "15   1   1   1   1   0.0001\n",
      "   \n",
      "i:  12\n",
      "0   12   144   3   4   0.0004\n",
      "1   4   16   2   6   0.0006\n",
      "2   6   36   2   6   0.0006\n",
      "3   6   36   2   6   0.0006\n",
      "4   6   36   2   6   0.0006\n",
      "5   6   36   2   6   0.0006\n",
      "6   6   36   2   6   0.0006\n",
      "7   6   36   2   6   0.0006\n",
      "8   6   36   2   6   0.0006\n",
      "9   6   36   2   6   0.0006\n",
      "10   6   36   2   6   0.0006\n",
      "11   6   36   2   6   0.0006\n",
      "12   6   36   2   6   0.0006\n",
      "13   6   36   2   6   0.0006\n",
      "14   6   36   2   6   0.0006\n",
      "15   6   36   2   6   0.0006\n",
      "   \n"
     ]
    }
   ],
   "source": [
    "iters = 16\n",
    "digs = 4\n",
    "for i in valor:\n",
    "    print(\"i: \",i)\n",
    "    cNume(16, i, 4)\n"
   ]
  },
  {
   "cell_type": "code",
   "execution_count": null,
   "metadata": {},
   "outputs": [],
   "source": []
  }
 ],
 "metadata": {
  "kernelspec": {
   "display_name": "Python 3",
   "language": "python",
   "name": "python3"
  },
  "language_info": {
   "codemirror_mode": {
    "name": "ipython",
    "version": 3
   },
   "file_extension": ".py",
   "mimetype": "text/x-python",
   "name": "python",
   "nbconvert_exporter": "python",
   "pygments_lexer": "ipython3",
   "version": "3.8.5"
  }
 },
 "nbformat": 4,
 "nbformat_minor": 4
}
