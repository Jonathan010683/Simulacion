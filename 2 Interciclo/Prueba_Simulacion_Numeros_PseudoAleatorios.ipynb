{
 "cells": [
  {
   "cell_type": "markdown",
   "metadata": {},
   "source": [
    "<center><h1>Universidad Politecnica Salesiana</h1></center>\n",
    "<center><h2>Simulacion</h2></center>\n",
    "<center><h3>Prueba de Numero PseudoAleatorios</h3></center>"
   ]
  },
  {
   "cell_type": "markdown",
   "metadata": {},
   "source": [
    "Objetivo:"
   ]
  },
  {
   "cell_type": "markdown",
   "metadata": {},
   "source": [
    "- Consolidar los conocimientos adquiridos generación de números pseudoaleatorios."
   ]
  },
  {
   "cell_type": "markdown",
   "metadata": {},
   "source": [
    "Introducción:"
   ]
  },
  {
   "cell_type": "markdown",
   "metadata": {},
   "source": [
    "Es fundamental verificar la calidad de los números  pseudoaleatorios. Ademas es importante no olvidar las 2 propiedades más importantes que deben tener los números pseudoaleatorios: uniformidad e independencia.\n",
    "\n",
    "La uniformidad se puede verificar usando las pruebas de bondad de ajuste test Chi Cuadrada\n",
    "\n",
    "Chi-Cuadrada\n",
    "\n",
    "Esta prueba verifica la desviación del valor esperado y  se usa cuando se trabaja con variables nominales (categorías o grupos)\n",
    "Debemos responder a la pregunta: ¿Difieren las frecuencias observadas de la frecuencia esperada?\n"
   ]
  },
  {
   "cell_type": "markdown",
   "metadata": {},
   "source": [
    "<h1>Desarrollo de la prueba</h1>"
   ]
  },
  {
   "cell_type": "markdown",
   "metadata": {},
   "source": [
    "Pasos para aplicar la prueba:"
   ]
  },
  {
   "cell_type": "markdown",
   "metadata": {},
   "source": [
    "- Vamos a importar todas las liberiras que vasmoa a utilizar para desarrolar la prueba "
   ]
  },
  {
   "cell_type": "code",
   "execution_count": 19,
   "metadata": {},
   "outputs": [],
   "source": [
    "import numpy as np\n",
    "import math as mt\n",
    "import matplotlib.pyplot as plt"
   ]
  },
  {
   "cell_type": "markdown",
   "metadata": {},
   "source": [
    "<h1>Congruencia Lineal</h1>\n",
    "Un generador lineal congruencial (GLC) es un algoritmo que permite obtener una secuencia de números pseudoaleatorios calculados con una función lineal definida a trozos discontinua. Es uno de los métodos más antiguos y conocidos para la generación de números pseudoaleatorios"
   ]
  },
  {
   "cell_type": "code",
   "execution_count": 20,
   "metadata": {},
   "outputs": [],
   "source": [
    "def congrueL(x, a, c, mod, it):\n",
    "    aux = 0.00\n",
    "    lis =[]\n",
    "    for i in range(it):\n",
    "        x = (a * x + c) % mod\n",
    "        aux = round(x/mod,2)\n",
    "        lis.append(aux)\n",
    "    return lis"
   ]
  },
  {
   "cell_type": "markdown",
   "metadata": {},
   "source": [
    "Vamos a optener lso datos que  se van a a necesitar para el desarrollo"
   ]
  },
  {
   "cell_type": "code",
   "execution_count": 27,
   "metadata": {},
   "outputs": [],
   "source": [
    "def gP(d):\n",
    "    aux1 =0\n",
    "    aux2 =0\n",
    "    if d%2 !=0:\n",
    "        aux1 = int(d/2)\n",
    "        aux2 = int(d/2)+1\n",
    "    else:\n",
    "        aux1 = int(d/2)\n",
    "        aux2 = aux1\n",
    "    return aux1,aux2"
   ]
  },
  {
   "cell_type": "markdown",
   "metadata": {},
   "source": [
    "<h1>Método de los Cuadrados Medios</h1>\n",
    "Es un método propuesto en los años 40 por los matemáticos John von Neumann y Nicholas Metropolis, siendo utilizado para la generación de números pseudoaleatorios, Esto para obtener una sucesión de números que básicamente se obtienen a partir de recurrencia, los cuales son relevantes en los procesos de simulación debido a que con estos números se hace posible comprobar el correcto funcionamiento de una prueba mediante la observación del comportamiento de las variables que se puedan encontrar a lo largo de la simulación."
   ]
  },
  {
   "cell_type": "code",
   "execution_count": 28,
   "metadata": {},
   "outputs": [],
   "source": [
    "def cudMedios(it, v, d):\n",
    "    lis =[]\n",
    "    semilla = int(v)\n",
    "    aux = gP(d)\n",
    "    for i in range(it):\n",
    "        x= semilla**2\n",
    "        l= len(str(x))\n",
    "        u= str(x)[int(l/2)-aux[0]:int(l/2)+aux[1]]\n",
    "        r= round(int(i)/10**d,2)\n",
    "       \n",
    "        lis.append(r)\n",
    "        semilla=int(u)\n",
    "   \n",
    "    return lis"
   ]
  },
  {
   "cell_type": "code",
   "execution_count": 33,
   "metadata": {},
   "outputs": [],
   "source": [
    "def lisDict(ngr, au, lis):\n",
    "    gr = []\n",
    "    aux=0.00\n",
    "    for i in range(ngr+1):\n",
    "        gr.append(round(aux,2))\n",
    "        aux=aux+au\n",
    "    a=0\n",
    "    b=1\n",
    "    ran={}\n",
    "    for i in range(len(gr)-1):\n",
    "        f=gr[a]\n",
    "        s=gr[b]\n",
    "        ran.update({str(f)+\",\" +str(s):[]})\n",
    "        for i in lis:\n",
    "            if i==0.00:\n",
    "                if i >=f and i <=s:\n",
    "                    ran[str(f)+\",\"+str(s)].append(i)\n",
    "            else:\n",
    "                if i >f and i <=s:\n",
    "                    ran[str(f)+\",\"+str(s)].append(i)\n",
    "        a=b\n",
    "        b=a+1\n",
    "    return ran"
   ]
  },
  {
   "cell_type": "markdown",
   "metadata": {},
   "source": [
    "<h1>Chi Cuadrado</h1>\n",
    "La prueba chi-cuadrado utiliza una aproximación a la distribución chi cuadrado para evaluar la probabilidad de una discrepancia igual o mayor que la que exista entre los datos y las frecuencias esperadas según la hipótesis nula.\n",
    "\n",
    "La exactitud de dicha evaluación dependerá de que los valores esperados no sean muy pequeños, y en menor medida de que el contraste entre ellos no sea muy elevado."
   ]
  },
  {
   "cell_type": "code",
   "execution_count": 34,
   "metadata": {},
   "outputs": [],
   "source": [
    "def chiCuadrado(lis, v):\n",
    "    num = int(mt.sqrt(len(lis)))\n",
    "    d = lisDict(num,1/num, lis)\n",
    "    s = 0.00\n",
    "    print(\" Intervalo \", \"    Ei \", \"   Oi \", \" (Oi-Ei)**2/Ei\")\n",
    "    for x, it in enumerate(d.items()):\n",
    "        f = ((len(it[1])-num)**2)/num\n",
    "        s+=f\n",
    "        print(x, \" \", str(num)+\"(\"+it[0]+\")  \", len(it[1]),\"  \", f)\n",
    "\n",
    "    plt.hist(lis)\n",
    "    plt.ylabel('Frequencia')\n",
    "    plt.xlabel('valores')\n",
    "    plt.title('Histograma Chi cuadrado')\n",
    "    plt.show()\n",
    "    \n",
    "    print(\"Valor de la Suma : \",s)\n",
    "    if s< v:\n",
    "        return True\n",
    "    else:\n",
    "        return False\n"
   ]
  },
  {
   "cell_type": "markdown",
   "metadata": {},
   "source": [
    "<h1>Prueba del Chi Cuadrado</h1>\n",
    "La prueba chi-cuadrado, también llamada Ji cuadrado (Χ2), se encuentra dentro de las pruebas pertenecientes a la estadística descriptiva, concretamente la estadística descriptiva aplicada al estudio de dos variables. Por su parte, la estadística descriptiva se centra en extraer información sobre la muestra. En cambio, la estadística inferencial extrae información sobre la población.\n",
    "\n",
    "El nombre de la prueba es propio de la distribución Chi-cuadrado de la probabilidad en la que se basa. Esta prueba fue desarrollada en el año 1900 por Karl Pearson."
   ]
  },
  {
   "cell_type": "code",
   "execution_count": 35,
   "metadata": {},
   "outputs": [],
   "source": [
    "def main():\n",
    "    valor = 16.9\n",
    "    print(\"Parte 1 CM\")\n",
    "    iters = 100\n",
    "    digs = 7\n",
    "    lista = cudMedios(iters, 13747323189, digs)\n",
    "    res=chiCuadrado(lista,valor)\n",
    "    print(\"Pasa: \",res) \n",
    "    \n",
    "    print(\"\")\n",
    "    print(\"Parte 2 CL\")\n",
    "\n",
    "    lista2 = congrueL(6,847334897457,13747323189,12,iters)\n",
    "    res2 = chiCuadrado(lista2,valor)\n",
    "    print(\"Pasa: \",res2)"
   ]
  },
  {
   "cell_type": "code",
   "execution_count": 36,
   "metadata": {},
   "outputs": [
    {
     "name": "stdout",
     "output_type": "stream",
     "text": [
      "Parte 1 CM\n",
      " Intervalo      Ei     Oi   (Oi-Ei)**2/Ei\n",
      "0   10(0.0,0.1)   100    810.0\n",
      "1   10(0.1,0.2)   0    10.0\n",
      "2   10(0.2,0.3)   0    10.0\n",
      "3   10(0.3,0.4)   0    10.0\n",
      "4   10(0.4,0.5)   0    10.0\n",
      "5   10(0.5,0.6)   0    10.0\n",
      "6   10(0.6,0.7)   0    10.0\n",
      "7   10(0.7,0.8)   0    10.0\n",
      "8   10(0.8,0.9)   0    10.0\n",
      "9   10(0.9,1.0)   0    10.0\n"
     ]
    },
    {
     "data": {
      "image/png": "[encoded data removed]",
      "text/plain": [
       "<Figure size 432x288 with 1 Axes>"
      ]
     },
     "metadata": {
      "needs_background": "light"
     },
     "output_type": "display_data"
    },
    {
     "name": "stdout",
     "output_type": "stream",
     "text": [
      "Valor de la Suma :  900.0\n",
      "Pasa:  False\n",
      "\n",
      "Parte 2 CL\n",
      " Intervalo      Ei     Oi   (Oi-Ei)**2/Ei\n",
      "0   10(0.0,0.1)   25    22.5\n",
      "1   10(0.1,0.2)   0    10.0\n",
      "2   10(0.2,0.3)   25    22.5\n",
      "3   10(0.3,0.4)   0    10.0\n",
      "4   10(0.4,0.5)   25    22.5\n",
      "5   10(0.5,0.6)   0    10.0\n",
      "6   10(0.6,0.7)   0    10.0\n",
      "7   10(0.7,0.8)   25    22.5\n",
      "8   10(0.8,0.9)   0    10.0\n",
      "9   10(0.9,1.0)   0    10.0\n"
     ]
    },
    {
     "data": {
      "image/png": "[encoded data removed]",
      "text/plain": [
       "<Figure size 432x288 with 1 Axes>"
      ]
     },
     "metadata": {
      "needs_background": "light"
     },
     "output_type": "display_data"
    },
    {
     "name": "stdout",
     "output_type": "stream",
     "text": [
      "Valor de la Suma :  150.0\n",
      "Pasa:  False\n"
     ]
    }
   ],
   "source": [
    "if __name__ == \"__main__\":\n",
    "    main()"
   ]
  },
  {
   "cell_type": "markdown",
   "metadata": {},
   "source": [
    "<h1>Conclusion</h1>\n",
    "Como podemos  ver  la prueba se a dearrollado con el metodo de cuadrados medios que es siendo utilizado para la generación de números pseudoaleatorios, Esto para obtener una sucesión de números que básicamente se obtienen a partir de recurrencia lo cual, vemos  ver que  valores se le pasa para tener una valor eficiente"
   ]
  },
  {
   "cell_type": "markdown",
   "metadata": {},
   "source": [
    "<h1>Bibliogracias</h1>\n",
    "[1] : https://www.ncbi.nlm.nih.gov/pmc/articles/PMC6291769/\n",
    "\n",
    "[2] : https://www.mdirector.com/marketing-automation/estrategias-de-marketing-automation-para-fidelizar.html\n",
    "\n",
    "[3] : https://blog.inconcertcc.com/automatiza-el-marketing-digital-en-tus-redes-sociales/\n",
    "\n",
    "[4] : https://psicologiaymente.com/miscelanea/prueba-chi-cuadrado\n",
    "\n",
    "[5] : https://es.wikibooks.org/wiki/M%C3%A9todo_de_los_cuadrados_medios_para_la_generaci%C3%B3n_de_n%C3%BAmeros_pseudoaleatorios\n"
   ]
  },
  {
   "cell_type": "code",
   "execution_count": null,
   "metadata": {},
   "outputs": [],
   "source": []
  }
 ],
 "metadata": {
  "kernelspec": {
   "display_name": "Python 3",
   "language": "python",
   "name": "python3"
  },
  "language_info": {
   "codemirror_mode": {
    "name": "ipython",
    "version": 3
   },
   "file_extension": ".py",
   "mimetype": "text/x-python",
   "name": "python",
   "nbconvert_exporter": "python",
   "pygments_lexer": "ipython3",
   "version": "3.8.5"
  }
 },
 "nbformat": 4,
 "nbformat_minor": 4
}
